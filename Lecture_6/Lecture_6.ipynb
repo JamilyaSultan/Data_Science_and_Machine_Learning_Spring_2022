{
 "cells": [
  {
   "cell_type": "code",
   "execution_count": 1,
   "metadata": {},
   "outputs": [],
   "source": [
    "from tensorflow import keras \n",
    "import numpy as np\n",
    "import matplotlib.pyplot as plt\n",
    "\n",
    "(train_X, train_y), (test_X, test_y) = keras.datasets.mnist.load_data()"
   ]
  },
  {
   "cell_type": "code",
   "execution_count": 2,
   "metadata": {},
   "outputs": [],
   "source": [
    "# Scale the data for training. \n",
    "train_X = train_X/255\n",
    "test_X = test_X/255\n",
    "\n",
    "# Flatten the training images into coloumn vectors. \n",
    "X_train = []\n",
    "for i, x in enumerate(train_X):\n",
    "    X_train.append(x.flatten().reshape(784, 1))\n",
    "    \n",
    "# One hot encode the training labels\n",
    "y_train = []\n",
    "for label in train_y:\n",
    "    temp_vec = np.zeros((10, 1))\n",
    "    temp_vec[label][0] = 1.0\n",
    "    y_train.append(temp_vec)\n",
    "\n",
    "\n",
    "# Do the same for the testing data \n",
    "X_test = []\n",
    "for i, x in enumerate(test_X):\n",
    "    X_test.append(x.flatten().reshape(784, 1))\n",
    "    \n",
    "y_test = []\n",
    "for label in test_y:\n",
    "    temp_vec = np.zeros((10, 1))\n",
    "    temp_vec[label] = 1.0\n",
    "    y_test.append(temp_vec)\n",
    "    "
   ]
  },
  {
   "cell_type": "code",
   "execution_count": 3,
   "metadata": {},
   "outputs": [],
   "source": [
    "def sigmoid(z):\n",
    "    return 1.0/(1.0+np.exp(-z))\n",
    "\n",
    "def d_sigmoid(z):\n",
    "    return sigmoid(z)*(1.0 - sigmoid(z))\n",
    "\n",
    "def mse(a, y):\n",
    "    return .5*sum((a[i] - y[i])**2 for i in range(10))[0]"
   ]
  },
  {
   "cell_type": "code",
   "execution_count": 4,
   "metadata": {},
   "outputs": [],
   "source": [
    "def initialize_weights(layers = [784, 60, 60, 10]):\n",
    "    W = [[0.0]]\n",
    "    B = [[0.0]]\n",
    "    for i in range(1, len(layers)):\n",
    "        w_temp = np.random.randn(layers[i], layers[i-1])*np.sqrt(2/layers[i-1])\n",
    "        b_temp = np.random.randn(layers[i], 1)*np.sqrt(2/layers[i-1])\n",
    "    \n",
    "        W.append(w_temp)\n",
    "        B.append(b_temp)\n",
    "    return W, B"
   ]
  },
  {
   "cell_type": "code",
   "execution_count": 7,
   "metadata": {},
   "outputs": [],
   "source": [
    "def deltas(W, B, yi, depth):\n",
    "    Z, A = forward_pass(W, B, yi, depth)\n",
    "    L = depth\n",
    "    delta = dict()\n",
    "    delta[L] = (A[-1] - yi)*d_sigmoid(Z[-1])\n",
    "    for i in range(L-1, 1, -1):\n",
    "        delta[i] = (delta[i+1]@W[i].T)*d_sigmoid(Z[-1])\n",
    "    \n",
    "    return A, delta"
   ]
  },
  {
   "cell_type": "code",
   "execution_count": 13,
   "metadata": {},
   "outputs": [],
   "source": [
    "def forward_pass(W, B, xi, depth, predict_vector = False):\n",
    "    Z = [[0.0]]\n",
    "    A = [xi]\n",
    "    for i in range(1, depth):\n",
    "        z = W[i] @ A[i-1] + B[i]\n",
    "        Z.append(z)\n",
    "        \n",
    "        a = sigmoid(z)\n",
    "        A.append(a)\n",
    "        \n",
    "    if predict_vector == False:\n",
    "        return Z, A\n",
    "    else:\n",
    "        return A[-1]\n",
    "\n",
    "def predict(W, B, xi, depth):\n",
    "    _, A = forward_pass(W, B, xi, depth)\n",
    "    return np.argmax(A[-1])\n",
    "\n",
    "def random_experiment(W, B, data_features, data_labels):\n",
    "    i = np.random.randint(len(data_features))\n",
    "    print(f\"Actual label: {np.argmax(data_labels[i])}\")\n",
    "    print(f\"Predicted label: {predict(W, B, x, len(B))}\")\n",
    "    \n",
    "\n",
    "def MSE(W, B, X, y):\n",
    "    cost = 0.0\n",
    "    m = 0\n",
    "    for xi, yi in zip(X, y):\n",
    "        a = forward_pass(W, B, xi, len(W), predict_vector = True)\n",
    "        cost += mse(a, yi)\n",
    "        m+=1\n",
    "    return cost/m"
   ]
  },
  {
   "cell_type": "code",
   "execution_count": 14,
   "metadata": {},
   "outputs": [
    {
     "name": "stdout",
     "output_type": "stream",
     "text": [
      "Initial Cost = 1.6006782090627476\n"
     ]
    }
   ],
   "source": [
    "W, B = initialize_weights(layers = [784, 60, 60, 10])\n",
    "print(f\"Initial Cost = {MSE(W, B, X_train, y_train)}\")"
   ]
  },
  {
   "cell_type": "code",
   "execution_count": 18,
   "metadata": {},
   "outputs": [
    {
     "name": "stdout",
     "output_type": "stream",
     "text": [
      "predicted digit is: 2\n",
      "actual digit is: 5\n"
     ]
    },
    {
     "data": {
      "image/png": "[encoded data removed]",
      "text/plain": [
       "<Figure size 432x360 with 1 Axes>"
      ]
     },
     "metadata": {
      "needs_background": "light"
     },
     "output_type": "display_data"
    }
   ],
   "source": [
    "i = np.random.randint(0, len(X_test))\n",
    "prediction = predict(W, B, X_test[i], len(B))\n",
    "print(f\"predicted digit is: {prediction}\")\n",
    "print(f\"actual digit is: {np.argmax(y_test[i])}\")\n",
    "plt.figure(figsize=(6, 5))\n",
    "plt.imshow(test_X[i], cmap=\"gray\")\n",
    "plt.show()"
   ]
  },
  {
   "cell_type": "code",
   "execution_count": 19,
   "metadata": {},
   "outputs": [
    {
     "name": "stdout",
     "output_type": "stream",
     "text": [
      "Starting Cost = 1.6006782090627476\n",
      "0-th Cost = 0.07190880106044358\n",
      "1-th Cost = 0.05151848373662988\n",
      "2-th Cost = 0.040693673585616125\n",
      "3-th Cost = 0.0341264400883274\n"
     ]
    }
   ],
   "source": [
    "#W, B = initialize_weights(layers = [784, 60, 60, 10])\n",
    "alpha = 0.046\n",
    "epochs = 4\n",
    "L = 4\n",
    "print(f\"Starting Cost = {MSE(W, B, X_train, y_train)}\")\n",
    "sample_size = len(X_train)\n",
    "L = len(W)\n",
    "for k in range(epochs):\n",
    "    for xi, yi in zip(X_train, y_train):\n",
    "\n",
    "        Z = [[0.0]]\n",
    "        A = [xi]\n",
    "\n",
    "        for i in range(1, L):\n",
    "            z = W[i]@A[i-1] + B[i]\n",
    "            a = sigmoid(z)\n",
    "    \n",
    "            Z.append(z)\n",
    "            A.append(a)\n",
    "    \n",
    "        deltas = dict()\n",
    "        delta_last = (A[L-1] - yi)*d_sigmoid(Z[L-1])\n",
    "        deltas[L-1] = delta_last\n",
    "        for i in range(L-2, 0, -1):\n",
    "            deltas[i] = (W[i+1].T @ deltas[i+1])*d_sigmoid(Z[i])\n",
    "        for i in range(1, L):\n",
    "            W[i] -= alpha*deltas[i] @ A[i-1].T\n",
    "            B[i] -= alpha*deltas[i]    \n",
    "\n",
    "\n",
    "    print(f\"{k}-th Cost = {MSE(W, B, X_train, y_train)}\")"
   ]
  },
  {
   "cell_type": "code",
   "execution_count": null,
   "metadata": {},
   "outputs": [],
   "source": []
  }
 ],
 "metadata": {
  "interpreter": {
   "hash": "40d3a090f54c6569ab1632332b64b2c03c39dcf918b08424e98f38b5ae0af88f"
  },
  "kernelspec": {
   "display_name": "Python 3.8.5 ('base')",
   "language": "python",
   "name": "python3"
  },
  "language_info": {
   "codemirror_mode": {
    "name": "ipython",
    "version": 3
   },
   "file_extension": ".py",
   "mimetype": "text/x-python",
   "name": "python",
   "nbconvert_exporter": "python",
   "pygments_lexer": "ipython3",
   "version": "3.8.5"
  },
  "orig_nbformat": 4
 },
 "nbformat": 4,
 "nbformat_minor": 2
}
