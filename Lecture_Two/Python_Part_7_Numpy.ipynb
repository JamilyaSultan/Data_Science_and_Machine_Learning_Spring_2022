{
 "cells": [
  {
   "cell_type": "markdown",
   "metadata": {},
   "source": [
    "---\n",
    "\n",
    "# Python Part 7. Numpy\n",
    "\n",
    "NumPy is the fundamental package for scientific computing in Python. It is a Python library that provides a multidimensional array object, various derived objects (such as masked arrays and matrices), and an assortment of routines for fast operations on arrays, including mathematical, logical, shape manipulation, sorting, selecting, I/O, discrete Fourier transforms, basic linear algebra, basic statistical operations, random simulation and much more.\n",
    "\n",
    "At the core of the NumPy package, is the ndarray object. This encapsulates n-dimensional arrays of homogeneous data types, with many operations being performed in compiled code for performance. There are several important differences between NumPy arrays and the standard Python sequences:\n",
    "\n",
    "* NumPy arrays have a fixed size at creation, unlike Python lists (which can grow dynamically). Changing the size of an ndarray will create a new array and delete the original.\n",
    "* The elements in a NumPy array are all required to be of the same data type, and thus will be the same size in memory. The exception: one can have arrays of (Python, including NumPy) objects, thereby allowing for arrays of different sized elements.\n",
    "* NumPy arrays facilitate advanced mathematical and other types of operations on large numbers of data. Typically, such operations are executed more efficiently and with less code than is possible using Python’s built-in sequences.\n",
    "* A growing plethora of scientific and mathematical Python-based packages are using NumPy arrays; though these typically support Python-sequence input, they convert such input to NumPy arrays prior to processing, and they often output NumPy arrays. In other words, in order to efficiently use much (perhaps even most) of today’s scientific/mathematical Python-based software, just knowing how to use Python’s built-in sequence types is insufficient - one also needs to know how to use NumPy arrays.\n",
    "\n",
    "## The Basic Numpy ```ndarray```\n",
    "It is standard to import numpy using the *alias* np. In the code below we import numpy and create a simple ```ndarray``` using the numpy ```array([])``` method. Run this code in the cell below.\n",
    "```python\n",
    "import numpy as np\n",
    "\n",
    "a = np.array([1.0, 2.0, 3.0])\n",
    "print(f\"a = {a}\")\n",
    "print(f\"The type of a is {type(a)}\")\n",
    "```\n",
    "\n",
    "---"
   ]
  },
  {
   "cell_type": "code",
   "execution_count": 31,
   "metadata": {},
   "outputs": [
    {
     "name": "stdout",
     "output_type": "stream",
     "text": [
      "a = [1. 2. 3.]\n",
      "The type of a is <class 'numpy.ndarray'>\n"
     ]
    }
   ],
   "source": [
    "import numpy as np\n",
    "\n",
    "a = np.array([1.0, 2.0, 3.0])\n",
    "print(f\"a = {a}\")\n",
    "print(f\"The type of a is {type(a)}\")"
   ]
  },
  {
   "cell_type": "markdown",
   "metadata": {},
   "source": [
    "---\n",
    "\n",
    "As shown in the output above, we see that ```a``` is ```<class 'numpy.ndarray'>```. Thus, ```a``` will have attributes and methods which can be found at the official documentation [here](https://numpy.org/doc/stable/reference/generated/numpy.ndarray.html). For example numpy ndarrays have ```shape``` and ```dtype``` attributes. Run the following code in the cell below.\n",
    "```python\n",
    "a = np.array([1.0, 2.0, 3.0])\n",
    "print(f\"a = {a}\")\n",
    "print(f\"The shape of a is {a.shape}\")\n",
    "print(f\"The types in a are {a.dtype}\")\n",
    "\n",
    "b = np.array([1, 2, 3, 4, 5])\n",
    "print(f\"b = {b}\")\n",
    "print(f\"The shape of b is {b.shape}\")\n",
    "print(f\"The types in b are {b.dtype}\")\n",
    "\n",
    "```\n",
    "\n",
    "---"
   ]
  },
  {
   "cell_type": "code",
   "execution_count": 4,
   "metadata": {},
   "outputs": [
    {
     "name": "stdout",
     "output_type": "stream",
     "text": [
      "a = [1. 2. 3.]\n",
      "The shape of a is (3,)\n",
      "The types in a are float64 \n",
      "\n",
      "b = [1 2 3 4 5]\n",
      "The shape of b is (5,)\n",
      "The types in b are int64\n"
     ]
    }
   ],
   "source": [
    "a = np.array([1.0, 2.0, 3.0])\n",
    "print(f\"a = {a}\")\n",
    "print(f\"The shape of a is {a.shape}\")\n",
    "print(f\"The types in a are {a.dtype} \\n\")\n",
    "\n",
    "b = np.array([1, 2, 3, 4, 5])\n",
    "print(f\"b = {b}\")\n",
    "print(f\"The shape of b is {b.shape}\")\n",
    "print(f\"The types in b are {b.dtype}\")"
   ]
  },
  {
   "cell_type": "markdown",
   "metadata": {},
   "source": [
    "---\n",
    "\n",
    "Numpy ```ndarray``` types also has *fast* methods for computing properties such as:\n",
    "* ```ndarray.mean()```: Mean of values in ```ndarray```\n",
    "* ```ndarray.max()```: Maximum of values in ```ndarray```\n",
    "* ```ndarray.argmax()```: Index of the maximum value in ```ndarray```\n",
    "* ```ndarray.min()```: Minimum of values in ```ndarray```\n",
    "* ```ndarray.argmin()```: Index of the minimum value in ```ndarray```\n",
    "\n",
    "For example run the following code in the cell below.\n",
    "```python\n",
    "a = np.array([10.0, 4.0, -3.5, 9.75, 20.1, 7.0])\n",
    "\n",
    "print(f\"a = {a}\")\n",
    "print(f\"The mean of values in a: {a.mean()}\")\n",
    "print(f\"The maximum of values in a: {a.max()}\")\n",
    "print(f\"The argmax of values in a: {a.argmax()}\")\n",
    "print(f\"The minimum of values in a: {a.min()}\")\n",
    "print(f\"The argmin of values in a: {a.argmin()}\")\n",
    "```\n",
    "\n",
    "---"
   ]
  },
  {
   "cell_type": "code",
   "execution_count": 25,
   "metadata": {},
   "outputs": [
    {
     "name": "stdout",
     "output_type": "stream",
     "text": [
      "a = [10.    4.   -3.5   9.75 20.1   7.  ]\n",
      "The mean of values in a: 7.891666666666667\n",
      "The maximum of values in a: 20.1\n",
      "The argmax of values in a: 4\n",
      "The minimum of values in a: -3.5\n",
      "The argmin of values in a: 2\n"
     ]
    }
   ],
   "source": [
    "a = np.array([10.0, 4.0, -3.5, 9.75, 20.1, 7.0])\n",
    "\n",
    "print(f\"a = {a}\")\n",
    "print(f\"The mean of values in a: {a.mean()}\")\n",
    "print(f\"The maximum of values in a: {a.max()}\")\n",
    "print(f\"The argmax of values in a: {a.argmax()}\")\n",
    "print(f\"The minimum of values in a: {a.min()}\")\n",
    "print(f\"The argmin of values in a: {a.argmin()}\")\n"
   ]
  },
  {
   "cell_type": "markdown",
   "metadata": {},
   "source": [
    "---\n",
    "\n",
    "## Column and Row Vector Representations in Numpy\n",
    "\n",
    "The basic numpy ```ndarray``` types shown above can be converted into representations of linear algebraic *column vectors* by explicitly setting the ```shape``` to be $(m, 1)$ where $m$ is the number of elements in the the column vector. For example, run the following code in the cell below.\n",
    "```python\n",
    "a = np.array([1.0, 2.0, 3.0])\n",
    "print(f\"a = {a}\")\n",
    "print(f\"The old shape of a is {a.shape}\")\n",
    "\n",
    "a.shape = (3, 1)\n",
    "print(f\"The new shape of a is {a.shape}\")\n",
    "print(f\"a = {a}\")\n",
    "```\n",
    "\n",
    "---"
   ]
  },
  {
   "cell_type": "code",
   "execution_count": 29,
   "metadata": {},
   "outputs": [
    {
     "name": "stdout",
     "output_type": "stream",
     "text": [
      "a = [1. 2. 3.]\n",
      "The old shape of a is (3,)\n",
      "The new shape of a is (3, 1)\n",
      "a = [[1.]\n",
      " [2.]\n",
      " [3.]]\n"
     ]
    }
   ],
   "source": [
    "a = np.array([1.0, 2.0, 3.0])\n",
    "print(f\"a = {a}\")\n",
    "print(f\"The old shape of a is {a.shape}\")\n",
    "\n",
    "a.shape = (3, 1)\n",
    "print(f\"The new shape of a is {a.shape}\")\n",
    "print(f\"a = {a}\")\n"
   ]
  },
  {
   "cell_type": "markdown",
   "metadata": {},
   "source": [
    "---\n",
    "\n",
    "The basic numpy ```ndarray``` types can also be converted into representations of linear algebraic *row vectors* by explicitly setting the ```shape``` to be $(1, n)$ where $n$ is the number of elements in the rows of the column vector. For example, run the following code in the cell below.\n",
    "```python\n",
    "a = np.array([1.0, 2.0, 3.0])\n",
    "print(f\"a = {a}\")\n",
    "print(f\"The old shape of a is {a.shape}\")\n",
    "\n",
    "a.shape = (1, 3)\n",
    "print(f\"The new shape of a is {a.shape}\")\n",
    "print(f\"a = {a}\")\n",
    "```\n",
    "\n",
    "---"
   ]
  },
  {
   "cell_type": "code",
   "execution_count": 30,
   "metadata": {},
   "outputs": [
    {
     "name": "stdout",
     "output_type": "stream",
     "text": [
      "a = [1. 2. 3.]\n",
      "The old shape of a is (3,)\n",
      "The new shape of a is (1, 3)\n",
      "a = [[1. 2. 3.]]\n"
     ]
    }
   ],
   "source": [
    "a = np.array([1.0, 2.0, 3.0])\n",
    "print(f\"a = {a}\")\n",
    "print(f\"The old shape of a is {a.shape}\")\n",
    "\n",
    "a.shape = (1, 3)\n",
    "print(f\"The new shape of a is {a.shape}\")\n",
    "print(f\"a = {a}\")"
   ]
  },
  {
   "cell_type": "markdown",
   "metadata": {},
   "source": [
    "---\n",
    "\n",
    "## Matrices\n",
    "\n",
    "Column vectors are special cases of linear algebraic matrices. Matrices can be constructed by passing into the numpy ```array([])``` method a list whose elements are the rows of your desired matrix in a list each. Note that this implies each each row list must have the same number of elements. For example, run the following code in the cell below. \n",
    "\n",
    "```python\n",
    "A = np.array([[1.0, 2.0, 3.0], [4.0, 5.0, 6.0]])\n",
    "\n",
    "print(f\"The shape of A is {A.shape}\")\n",
    "print(f\"A = {A} \\n\")\n",
    "\n",
    "print(f\"Row 0 = {A[0, :]}\")\n",
    "print(f\"Row 1 = {A[1, :]} \\n\")\n",
    "\n",
    "print(f\"Column 0 = {A[:, 0]}\")\n",
    "print(f\"Column 1 = {A[:, 1]} \\n\")\n",
    "\n",
    "print(f\"Element at row index 0 and column index 2 = {A[0, 2]}\")\n",
    "\n",
    "```\n",
    "\n",
    "\n",
    "---"
   ]
  },
  {
   "cell_type": "code",
   "execution_count": 21,
   "metadata": {},
   "outputs": [
    {
     "name": "stdout",
     "output_type": "stream",
     "text": [
      "The shape of A is (2, 3)\n",
      "A = [[1. 2. 3.]\n",
      " [4. 5. 6.]] \n",
      "\n",
      "Row 0 = [1. 2. 3.]\n",
      "Row 1 = [4. 5. 6.] \n",
      "\n",
      "Column 0 = [1. 4.]\n",
      "Column 1 = [2. 5.] \n",
      "\n",
      "Element at row index 0 and column index 2 = 3.0\n"
     ]
    }
   ],
   "source": [
    "A = np.array([[1.0, 2.0, 3.0], [4.0, 5.0, 6.0]])\n",
    "\n",
    "print(f\"The shape of A is {A.shape}\")\n",
    "print(f\"A = {A} \\n\")\n",
    "\n",
    "print(f\"Row 0 = {A[0, :]}\")\n",
    "print(f\"Row 1 = {A[1, :]} \\n\")\n",
    "\n",
    "print(f\"Column 0 = {A[:, 0]}\")\n",
    "print(f\"Column 1 = {A[:, 1]} \\n\")\n",
    "\n",
    "print(f\"Element at row index 0 and column index 2 = {A[0, 2]}\")"
   ]
  },
  {
   "cell_type": "code",
   "execution_count": 15,
   "metadata": {},
   "outputs": [
    {
     "data": {
      "text/plain": [
       "array([[1., 2., 3.],\n",
       "       [4., 5., 6.]])"
      ]
     },
     "execution_count": 15,
     "metadata": {},
     "output_type": "execute_result"
    }
   ],
   "source": [
    "A"
   ]
  },
  {
   "cell_type": "code",
   "execution_count": 16,
   "metadata": {},
   "outputs": [
    {
     "data": {
      "text/plain": [
       "array([1., 2., 3.])"
      ]
     },
     "execution_count": 16,
     "metadata": {},
     "output_type": "execute_result"
    }
   ],
   "source": [
    "A[0, :]"
   ]
  },
  {
   "cell_type": "code",
   "execution_count": null,
   "metadata": {},
   "outputs": [],
   "source": []
  },
  {
   "cell_type": "markdown",
   "metadata": {},
   "source": [
    "![](root_image.jpeg)"
   ]
  },
  {
   "cell_type": "markdown",
   "metadata": {},
   "source": []
  }
 ],
 "metadata": {
  "interpreter": {
   "hash": "40d3a090f54c6569ab1632332b64b2c03c39dcf918b08424e98f38b5ae0af88f"
  },
  "kernelspec": {
   "display_name": "Python 3.8.5 64-bit ('base': conda)",
   "language": "python",
   "name": "python3"
  },
  "language_info": {
   "codemirror_mode": {
    "name": "ipython",
    "version": 3
   },
   "file_extension": ".py",
   "mimetype": "text/x-python",
   "name": "python",
   "nbconvert_exporter": "python",
   "pygments_lexer": "ipython3",
   "version": "3.8.5"
  },
  "orig_nbformat": 4
 },
 "nbformat": 4,
 "nbformat_minor": 2
}
